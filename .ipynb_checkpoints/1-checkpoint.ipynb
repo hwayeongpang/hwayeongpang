{
 "cells": [
  {
   "cell_type": "code",
   "execution_count": 1,
   "id": "87f08286",
   "metadata": {},
   "outputs": [
    {
     "name": "stdout",
     "output_type": "stream",
     "text": [
      "Hello World!\n"
     ]
    }
   ],
   "source": [
    "str = \"Hello World!\"\n",
    "print(str)"
   ]
  },
  {
   "cell_type": "code",
   "execution_count": 3,
   "id": "2085960b",
   "metadata": {},
   "outputs": [
    {
     "name": "stdout",
     "output_type": "stream",
     "text": [
      "27.5\n"
     ]
    }
   ],
   "source": [
    "number=10+20-5/2\n",
    "print(number)"
   ]
  },
  {
   "cell_type": "code",
   "execution_count": 4,
   "id": "1c44b4f7",
   "metadata": {
    "scrolled": true
   },
   "outputs": [
    {
     "name": "stdout",
     "output_type": "stream",
     "text": [
      "10\n"
     ]
    }
   ],
   "source": [
    "age=10\n",
    "print(age)"
   ]
  },
  {
   "cell_type": "code",
   "execution_count": 5,
   "id": "0f8251f7",
   "metadata": {},
   "outputs": [
    {
     "name": "stdout",
     "output_type": "stream",
     "text": [
      "홍길동\n"
     ]
    }
   ],
   "source": [
    "name=\"홍길동\"\n",
    "print(name)"
   ]
  },
  {
   "cell_type": "code",
   "execution_count": 6,
   "id": "da3078d3",
   "metadata": {},
   "outputs": [
    {
     "name": "stdout",
     "output_type": "stream",
     "text": [
      "20\n",
      "임꺽정\n"
     ]
    }
   ],
   "source": [
    "age=20\n",
    "name=\"임꺽정\"\n",
    "\n",
    "print(age)\n",
    "print(name)"
   ]
  },
  {
   "cell_type": "code",
   "execution_count": 9,
   "id": "2dd50e98",
   "metadata": {},
   "outputs": [
    {
     "name": "stdout",
     "output_type": "stream",
     "text": [
      "30\n"
     ]
    }
   ],
   "source": [
    "age=age+10\n",
    "print(age)"
   ]
  },
  {
   "cell_type": "code",
   "execution_count": 5,
   "id": "6f6943f6",
   "metadata": {
    "scrolled": false
   },
   "outputs": [
    {
     "data": {
      "text/plain": [
       "'Hello World'"
      ]
     },
     "execution_count": 5,
     "metadata": {},
     "output_type": "execute_result"
    }
   ],
   "source": [
    "\"Hello World\""
   ]
  },
  {
   "cell_type": "code",
   "execution_count": 6,
   "id": "4ddca1a1",
   "metadata": {},
   "outputs": [
    {
     "data": {
      "text/plain": [
       "'문자열'"
      ]
     },
     "execution_count": 6,
     "metadata": {},
     "output_type": "execute_result"
    }
   ],
   "source": [
    "'문자열'"
   ]
  },
  {
   "cell_type": "code",
   "execution_count": 9,
   "id": "c51cc186",
   "metadata": {},
   "outputs": [
    {
     "data": {
      "text/plain": [
       "\"{'KEY:VALUE'}\""
      ]
     },
     "execution_count": 9,
     "metadata": {},
     "output_type": "execute_result"
    }
   ],
   "source": [
    "\"{'KEY:VALUE'}\""
   ]
  },
  {
   "cell_type": "code",
   "execution_count": 14,
   "id": "3eed6ab9",
   "metadata": {},
   "outputs": [
    {
     "name": "stdout",
     "output_type": "stream",
     "text": [
      "이름을 입력하세요: 홍길동\n",
      "안녕하세요, 저는 홍길동 입니다. \n"
     ]
    },
    {
     "data": {
      "text/plain": [
       "str"
      ]
     },
     "execution_count": 14,
     "metadata": {},
     "output_type": "execute_result"
    }
   ],
   "source": [
    "name = input(\"이름을 입력하세요: \")\n",
    "greeting = \"안녕하세요, 저는 \" + name + \" 입니다. \"\n",
    "print(greeting)\n",
    "type(greeting)"
   ]
  },
  {
   "cell_type": "code",
   "execution_count": 15,
   "id": "fae3a8a4",
   "metadata": {},
   "outputs": [
    {
     "name": "stdout",
     "output_type": "stream",
     "text": [
      "두 정수의 합: 8\n"
     ]
    }
   ],
   "source": [
    "# 두 정수의 합 구하기\n",
    "\n",
    "# 두 개의 정수를 변수에 저장합니다.\n",
    "num1 = 5\n",
    "num2 = 3\n",
    "\n",
    "# 두 정수를 더하여 결과를 저장하는 변수를 만듭니다.\n",
    "sum_result = num1 + num2\n",
    "\n",
    "# 결과를 출력합니다.\n",
    "print(\"두 정수의 합:\", sum_result)"
   ]
  },
  {
   "cell_type": "code",
   "execution_count": 16,
   "id": "7faab145",
   "metadata": {},
   "outputs": [
    {
     "name": "stdout",
     "output_type": "stream",
     "text": [
      "첫 번째 정수를 입력하세요: 10\n",
      "두 번째 정수를 입력하세요: 3\n",
      "두 정수의 합은: 13\n"
     ]
    }
   ],
   "source": [
    "# 두 정수를 입력받고 합 구하기\n",
    "\n",
    "# 두 개의 정수를 입력받아 변수에 저장합니다.\n",
    "num1 = int(input(\"첫 번째 정수를 입력하세요: \"))\n",
    "num2 = int(input(\"두 번째 정수를 입력하세요: \"))\n",
    "\n",
    "# 두 정수를 더하여 결과를 저장하는 변수를 만듭니다.\n",
    "sum_result = num1 + num2\n",
    "\n",
    "# 결과를 출력합니다.\n",
    "print(\"두 정수의 합은:\", sum_result)"
   ]
  },
  {
   "cell_type": "code",
   "execution_count": 18,
   "id": "8d7ac4eb",
   "metadata": {},
   "outputs": [
    {
     "name": "stdout",
     "output_type": "stream",
     "text": [
      "첫 번째 정수를 입력하세요: 2.0\n",
      "두 번째 정수를 입력하세요: 1.14\n",
      "두 정수의 합은: 3.1399999999999997\n"
     ]
    }
   ],
   "source": [
    "# 두 정수를 입력받고 합 구하기\n",
    "\n",
    "# 두 개의 정수를 입력받아 변수에 저장합니다.\n",
    "num1 = float(input(\"첫 번째 정수를 입력하세요: \"))\n",
    "num2 = float(input(\"두 번째 정수를 입력하세요: \"))\n",
    "\n",
    "# 두 정수를 더하여 결과를 저장하는 변수를 만듭니다.\n",
    "sum_result = num1 + num2\n",
    "\n",
    "# 결과를 출력합니다.\n",
    "print(\"두 정수의 합은:\", sum_result)"
   ]
  },
  {
   "cell_type": "code",
   "execution_count": 19,
   "id": "483535a2",
   "metadata": {},
   "outputs": [
    {
     "name": "stdout",
     "output_type": "stream",
     "text": [
      "True\n",
      "False\n"
     ]
    }
   ],
   "source": [
    "result = True\n",
    "print(result)\n",
    "\n",
    "result = False\n",
    "print(result)"
   ]
  },
  {
   "cell_type": "code",
   "execution_count": 20,
   "id": "de58f60c",
   "metadata": {},
   "outputs": [
    {
     "name": "stdout",
     "output_type": "stream",
     "text": [
      "첫 번째 정수를 입력하세요: 10\n",
      "두 번째 정수를 입력하세요: 20\n",
      "True\n"
     ]
    }
   ],
   "source": [
    "# 두 개의 정수를 입력받아 변수에 저장합니다.\n",
    "num1 = int(input(\"첫 번째 정수를 입력하세요: \"))\n",
    "num2 = int(input(\"두 번째 정수를 입력하세요: \"))\n",
    "\n",
    "# 서로의 값을 비교하여 True & False 를 반환 합니다.\n",
    "print(num1 < num2)"
   ]
  },
  {
   "cell_type": "code",
   "execution_count": 21,
   "id": "282e935c",
   "metadata": {},
   "outputs": [
    {
     "name": "stdout",
     "output_type": "stream",
     "text": [
      "첫 번째 정수를 입력하세요: 20\n",
      "두 번째 정수를 입력하세요: 10\n",
      "False\n"
     ]
    }
   ],
   "source": [
    "# 두 개의 정수를 입력받아 변수에 저장합니다.\n",
    "num1 = int(input(\"첫 번째 정수를 입력하세요: \"))\n",
    "num2 = int(input(\"두 번째 정수를 입력하세요: \"))\n",
    "\n",
    "# 서로의 값을 비교하여 True & False 를 반환 합니다.\n",
    "print(num1 < num2)"
   ]
  },
  {
   "cell_type": "code",
   "execution_count": 25,
   "id": "ecd794e2",
   "metadata": {},
   "outputs": [
    {
     "name": "stdout",
     "output_type": "stream",
     "text": [
      "첫 번째 정수를 입력하세요: 10\n",
      "두 번째 정수를 입력하세요: 20\n",
      "세 번째 정수를 입력하세요: 30\n",
      "['10', '20', '30']\n"
     ]
    }
   ],
   "source": [
    "# List를 생성 합니다.\n",
    "# 리스트는 대괄호로 초기값을 셋팅 합니다.\n",
    "numbers = []\n",
    "\n",
    "# 몃번의 입력을 받을지 정합니다.\n",
    "numbers.append(input(\"첫 번째 정수를 입력하세요: \"))\n",
    "numbers.append(input(\"두 번째 정수를 입력하세요: \"))\n",
    "numbers.append(input(\"세 번째 정수를 입력하세요: \"))\n",
    "\n",
    "# 결과를 확인 합니다.  \n",
    "print(numbers)"
   ]
  },
  {
   "cell_type": "code",
   "execution_count": 26,
   "id": "0ff3cd54",
   "metadata": {},
   "outputs": [
    {
     "name": "stdout",
     "output_type": "stream",
     "text": [
      "[10, '홍길동', 3.1415926, 20, '임꺽정', 57.2957795, 30, '이몽룡']\n"
     ]
    }
   ],
   "source": [
    "list = [10, \"홍길동\", 3.1415926, 20, \"임꺽정\", 57.2957795, 30, \"이몽룡\"]\n",
    "print(list)"
   ]
  },
  {
   "cell_type": "code",
   "execution_count": 27,
   "id": "512d5a1b",
   "metadata": {},
   "outputs": [
    {
     "name": "stdout",
     "output_type": "stream",
     "text": [
      "[10, '홍길동', 3.1415926, 20, '임꺽정', 57.2957795, 30, '이몽룡', '성춘향']\n"
     ]
    }
   ],
   "source": [
    "# 리스트의 끝에 새로운 항목을 추가\n",
    "list.append(\"성춘향\")\n",
    "print(list)\n",
    "# [10, '홍길동', 3.1415926, 20, '임꺽정', 57.2957795, 30, '이몽룡', '성춘향']"
   ]
  },
  {
   "cell_type": "code",
   "execution_count": 45,
   "id": "c400b5ca",
   "metadata": {},
   "outputs": [
    {
     "name": "stdout",
     "output_type": "stream",
     "text": [
      "[10, '홍길동', 3.1415926, 5, 1, 2, 3, 4, 5, 1, 2, 3, 4, 5, 1, 2, 3, 4, 5, 1, 2, 3, 4, 5, 1, 2, 3, 4, 5, 1, 2, 3, 4, 5, 1, 2, 3, 4, 5, 1, 2, 3, 4, 5, 1, 2, 3, 4, 5, 1, 2, 3, 4, 5, 1, 2, 3, 4, 5, 1, 2, 3, 4, 5, 1, 2, 3, 4, 5, 1, 2, 3, 4, 5, 1, 2, 3, 4, 5]\n",
      "[10, '홍길동', 3.1415926, 15, 5, 1, 2, 3, 4, 5, 1, 2, 3, 4, 5, 1, 2, 3, 4, 5, 1, 2, 3, 4, 5, 1, 2, 3, 4, 5, 1, 2, 3, 4, 5, 1, 2, 3, 4, 5, 1, 2, 3, 4, 5, 1, 2, 3, 4, 5, 1, 2, 3, 4, 5, 1, 2, 3, 4, 5, 1, 2, 3, 4, 5, 1, 2, 3, 4, 5, 1, 2, 3, 4, 5, 1, 2, 3, 4, 5]\n",
      "[10, '홍길동', 3.1415926, 5, 1, 2, 3, 4, 5, 1, 2, 3, 4, 5, 1, 2, 3, 4, 5, 1, 2, 3, 4, 5, 1, 2, 3, 4, 5, 1, 2, 3, 4, 5, 1, 2, 3, 4, 5, 1, 2, 3, 4, 5, 1, 2, 3, 4, 5, 1, 2, 3, 4, 5, 1, 2, 3, 4, 5, 1, 2, 3, 4, 5, 1, 2, 3, 4, 5, 1, 2, 3, 4, 5, 1, 2, 3, 4, 5]\n",
      "5\n",
      "1\n",
      "[1, 2, 3, 4, 5]\n",
      "[10, '홍길동', 3.1415926, 1, 2, 3, 4, 5, 1, 2, 3, 4, 5, 1, 2, 3, 4, 5, 1, 2, 3, 4, 5, 1, 2, 3, 4, 5, 1, 2, 3, 4, 5, 1, 2, 3, 4, 5, 1, 2, 3, 4, 5, 1, 2, 3, 4, 5, 1, 2, 3, 4, 5, 1, 2, 3, 4, 5, 1, 2, 3, 4, 5, 1, 2, 3, 4, 5, 1, 2, 3, 4, 5, 1, 2, 3, 4, 5]\n",
      "[]\n"
     ]
    }
   ],
   "source": [
    "# 다른 iterable(예: 리스트, 튜플)의 모든 항목을 리스트에 추가\n",
    "list.extend((1, 2, 3, 4, 5))\n",
    "print(list)\n",
    "# [10, '홍길동', 3.1415926, 20, '임꺽정', 57.2957795, 30, '이몽룡', '성춘향', 1, 2, 3, 4, 5]\n",
    "\n",
    "\n",
    "#지정한 인덱스 위치에 항목을 삽입\n",
    "# list.insert(index, value)\n",
    "# index = 0부터 시작한다.\n",
    "list.insert(3, 15)\n",
    "print(list)\n",
    "# [10, '홍길동', 3.1415926, 15, 20, '임꺽정', 57.2957795, 30, '이몽룡', '성춘향', 1, 2, 3, 4, 5]\n",
    "\n",
    "\n",
    "#리스트에서 포함된 특정 항목을 찾아 제거\n",
    "list.remove(15) # 15 제거\n",
    "print(list)\n",
    "# [10, '홍길동', 3.1415926, 20, '임꺽정', 57.2957795, 30, '이몽룡', '성춘향', 1, 2, 3, 4, 5]\n",
    "\n",
    "\n",
    "# 지정한 인덱스 위치의 항목을 제거하고 반환.\n",
    "pop = list.pop(3)\n",
    "print(pop)\n",
    "# 20\n",
    "\n",
    "\n",
    "\n",
    "#리스트에서 특정 항목의 개수를 반환.\n",
    "count = list.count(\"홍길동\") # \"홍길동\" 의 개수를 확인하여 반환.\n",
    "print(count)\n",
    "# 1\n",
    "\n",
    "\n",
    "\n",
    "#리스트를 오름차순으로 정렬.\n",
    "#list.sort() # 데이터 타입이 다른 값들이 있다면 정렬 되지 않음.\n",
    "temp = [5, 1, 3, 2, 4]\n",
    "temp.sort()\n",
    "print(temp)\n",
    "# [1, 2, 3, 4, 5]\n",
    "\n",
    "\n",
    "#리스트의 얕은 복사본을 생성.\n",
    "temp = list.copy()\n",
    "print(temp)\n",
    "# [10, '홍길동', 3.1415926, '임꺽정', 57.2957795, 30, '이몽룡', '성춘향', 1, 2, 3, 4, 5]\n",
    "\n",
    "\n",
    "#리스트의 모든 항목을 제거\n",
    "temp.clear()\n",
    "print(temp)\n",
    "# []"
   ]
  },
  {
   "cell_type": "code",
   "execution_count": 48,
   "id": "f2eae24a",
   "metadata": {},
   "outputs": [
    {
     "name": "stdout",
     "output_type": "stream",
     "text": [
      "('아빠', 55)\n",
      "('엄마', 53)\n",
      "('나', 25)\n",
      "(('아빠', 55), ('엄마', 53), ('나', 25))\n"
     ]
    }
   ],
   "source": [
    "# 가족 구성원의 이름과 나이를 튜플로 저장합니다.\n",
    "father = ('아빠', 55)\n",
    "mother = ('엄마', 53)\n",
    "me = ('나', 25)\n",
    "# brother\n",
    "# sister\n",
    "\n",
    "# 가족 구성원의 정보를 모아둔 튜플을 생성합니다.\n",
    "family = (father, mother, me)\n",
    "\n",
    "#a,*b=family < 2개만 풀기\n",
    "a,b,c=family\n",
    "print(a)\n",
    "print(b)\n",
    "print(c)\n",
    "\n",
    "\n",
    "# 결과를 확인합니다.\n",
    "print(family)"
   ]
  },
  {
   "cell_type": "code",
   "execution_count": 49,
   "id": "35f0170b",
   "metadata": {},
   "outputs": [
    {
     "name": "stdout",
     "output_type": "stream",
     "text": [
      "3\n",
      "1\n",
      "2\n",
      "[10, 20, 30, 40]\n",
      "(10, 20, 30, 10, 20, 30, 40, 50, 60, 70, 80, 90)\n",
      "(10, 20, 30, 10, 20, 30, 10, 20, 30)\n"
     ]
    }
   ],
   "source": [
    "numbers = (10, 20, 30)\n",
    "\n",
    "#튜플의 길이(원소의 개수)를 반환.\n",
    "print(len(numbers))\n",
    "# 3\n",
    "\n",
    "\n",
    "#튜플에서 특정 요소의 개수를 반환.\n",
    "count = numbers.count(10) # 튜플을 구성하고 있는 요소들 중 10 의 개수를 확인.\n",
    "print(count)\n",
    "# 1\n",
    "\n",
    "\n",
    "#튜플의 요소들 중 해당하는 값과 일치하는 요소의 index를 반환.\n",
    "index = numbers.index(30)\n",
    "print(index)\n",
    "# 2\n",
    "# index = 원소의 순서     예; Tuple = (10, 20, 30)  => index 10 = 0, 20 = 1, 30 = 2\n",
    "# 프로그래밍에서의 숫자는 0부터 시작한다.\n",
    "\n",
    "\n",
    "#튜플을 정렬한 새로운 리스트를 반환.\n",
    "print(sorted((30, 40, 20, 10)))\n",
    "#정렬된 리스트 <= 중요!! [리스트]를 반환!!\n",
    "\n",
    "\n",
    "# 연결된 튜플을 반환.\n",
    "result = numbers + (10, 20, 30, 40, 50, 60, 70, 80, 90)\n",
    "print(result)\n",
    "# (10, 20, 30, 10, 20, 30, 40, 50, 60, 70, 80, 90)\n",
    "\n",
    "\n",
    "# 튜플 반복하여 연결\n",
    "result = numbers * 3 # 3번 연결\n",
    "print(result)\n",
    "# (10, 20, 30, 10, 20, 30, 10, 20, 30)"
   ]
  },
  {
   "cell_type": "code",
   "execution_count": 52,
   "id": "b5e961af",
   "metadata": {},
   "outputs": [
    {
     "name": "stdout",
     "output_type": "stream",
     "text": [
      "홍길동\n",
      "홍길동\n",
      "False\n",
      "4\n",
      "{'name': '홍길동', 'phone': '010-1234-5678', 'age': '25', 'job': 'student'}\n",
      "25\n",
      "dict_items([('name', '홍길동'), ('phone', '010-1234-5678'), ('age', '25'), ('job', 'student')])\n",
      "dict_keys(['name', 'phone', 'age', 'job'])\n",
      "dict_values(['홍길동', '010-1234-5678', '25', 'student'])\n",
      "{}\n"
     ]
    }
   ],
   "source": [
    "dict = {\n",
    "    \"name\": \"홍길동\",\n",
    "    \"phone\": \"010-1234-5678\",\n",
    "    \"age\": \"25\",\n",
    "    \"region\": \"Busan\"\n",
    "}\n",
    "\n",
    "#키에 해당하는 값을 반환\n",
    "name = dict.__getitem__(\"name\")\n",
    "\n",
    "print(dict[\"name\"])\n",
    "print(name)\n",
    "# 홍길동\n",
    "\n",
    "# \"job\"키와 \"student\"값을 dictionary에 추가\n",
    "dict.__setitem__(\"job\", \"student\")\n",
    "\n",
    "# \"region\"키와 값을 dictionary에서 제거\n",
    "dict.__delitem__(\"region\")\n",
    "\n",
    "\n",
    "# \"region\"키가 dictionary에 있는지 확인\n",
    "check = dict.__contains__(\"region\")\n",
    "print(check)\n",
    "# False\n",
    "\n",
    "\n",
    "#dictionary의 크기를 반환\n",
    "print(dict.__len__())\n",
    "# 4\n",
    "\n",
    "\n",
    "#dictionary의 복사본을 생성\n",
    "temp = dict.copy()\n",
    "print(temp)\n",
    "# {'name': '홍길동', 'phone': '010-1234-5678', 'age': '25', 'job': 'student'}\n",
    "\n",
    "\n",
    "#키에 해당하는 값을 반환하고, 키가 없으면 기본값을 반환합니다.\n",
    "age = dict.get(\"age\")\n",
    "print(age)\n",
    "# 25\n",
    "\n",
    "#키와 값의 튜플을 반환\n",
    "items = dict.items()\n",
    "print(items)\n",
    "# dict_items([('name', '홍길동'), ('phone', '010-1234-5678'), ('age', '25'), ('job', 'student')])\n",
    "\n",
    "\n",
    "#키의 리스트를 반환*****\n",
    "print(dict.keys())\n",
    "# dict_keys(['name', 'phone', 'age', 'job'])\n",
    "\n",
    "\n",
    "#값의 리스트를 반환\n",
    "print(dict.values())\n",
    "# dict_values(['홍길동', '010-1234-5678', '25', 'student'])\n",
    "\n",
    "\n",
    "#dictionary를 비운다.\n",
    "dict.clear()\n",
    "# 모든 데이터가 삭제 됨\n",
    "\n",
    "# 삭제 되었는지 확인.\n",
    "print(dict)"
   ]
  },
  {
   "cell_type": "code",
   "execution_count": 1,
   "id": "2231b600",
   "metadata": {},
   "outputs": [
    {
     "name": "stdout",
     "output_type": "stream",
     "text": [
      "키를 입력하세요 (cm): 130\n",
      "놀이공원에 입장할 수 있습니다!\n"
     ]
    }
   ],
   "source": [
    "height = int(input(\"키를 입력하세요 (cm): \"))\n",
    "\n",
    "if height >= 120:\n",
    "    print(\"놀이공원에 입장할 수 있습니다!\")\n",
    "else:\n",
    "    print(\"키가 작아서 놀이공원에 입장할 수 없습니다.\")"
   ]
  },
  {
   "cell_type": "code",
   "execution_count": 2,
   "id": "e9a5cb1d",
   "metadata": {},
   "outputs": [
    {
     "name": "stdout",
     "output_type": "stream",
     "text": [
      "시험 점수를 입력하세요: 80\n",
      "학점은 B 입니다.\n"
     ]
    }
   ],
   "source": [
    "score = int(input(\"시험 점수를 입력하세요: \"))\n",
    "\n",
    "if score >= 90:\n",
    "    grade = \"A\"\n",
    "elif score >= 80:\n",
    "    grade = \"B\"\n",
    "elif score >= 70:\n",
    "    grade = \"C\"\n",
    "elif score >= 60:\n",
    "    grade = \"D\"\n",
    "else:\n",
    "    grade = \"F\"\n",
    "\n",
    "print(\"학점은\", grade, \"입니다.\")"
   ]
  },
  {
   "cell_type": "code",
   "execution_count": 3,
   "id": "602507ee",
   "metadata": {},
   "outputs": [
    {
     "name": "stdout",
     "output_type": "stream",
     "text": [
      "오늘 날씨는 어때요? (맑음/흐림/비/눈): 맑음\n",
      "오늘은 맑음 이니까 반팔과 반바지 를 입으세요!\n"
     ]
    }
   ],
   "source": [
    "weather = input(\"오늘 날씨는 어때요? (맑음/흐림/비/눈): \")\n",
    "\n",
    "if weather == \"맑음\":\n",
    "    outfit = \"반팔과 반바지\"\n",
    "elif weather == \"흐림\" or weather == \"비\":\n",
    "    outfit = \"긴팔과 바지\"\n",
    "elif weather == \"눈\":\n",
    "    outfit = \"두꺼운 옷과 장화\"\n",
    "else:\n",
    "    outfit = \"올바른 날씨 정보를 입력하세요.\"\n",
    "\n",
    "print(\"오늘은\", weather, \"이니까\", outfit, \"를 입으세요!\")"
   ]
  },
  {
   "cell_type": "code",
   "execution_count": 4,
   "id": "11ae6edd",
   "metadata": {},
   "outputs": [
    {
     "name": "stdout",
     "output_type": "stream",
     "text": [
      "숫자를 입력하세요: 2\n",
      "입력한 숫자는 짝수입니다.\n"
     ]
    }
   ],
   "source": [
    "number = int(input(\"숫자를 입력하세요: \"))\n",
    "\n",
    "if number % 2 == 0:\n",
    "    print(\"입력한 숫자는 짝수입니다.\")\n",
    "else:\n",
    "    print(\"입력한 숫자는 홀수입니다.\")"
   ]
  },
  {
   "cell_type": "code",
   "execution_count": 1,
   "id": "b02f6442",
   "metadata": {},
   "outputs": [
    {
     "name": "stdout",
     "output_type": "stream",
     "text": [
      "나이를 입력하세요: 9\n",
      "청소년 할인이 적용됩니다.\n"
     ]
    }
   ],
   "source": [
    "age = int(input(\"나이를 입력하세요: \"))\n",
    "\n",
    "if age < 8:\n",
    "    print(\"무료 입장입니다!\")\n",
    "elif age >= 8 and age < 18:\n",
    "    print(\"청소년 할인이 적용됩니다.\")\n",
    "else:\n",
    "    print(\"일반 요금이 적용됩니다.\")"
   ]
  },
  {
   "cell_type": "code",
   "execution_count": 4,
   "id": "dd630448",
   "metadata": {},
   "outputs": [
    {
     "name": "stdout",
     "output_type": "stream",
     "text": [
      "나이를 입력하세요: 6\n",
      "무료 입장입니다\n"
     ]
    }
   ],
   "source": [
    "age=int(input('나이를 입력하세요: '))\n",
    "\n",
    "if age<8:\n",
    "    print('무료 입장입니다')\n",
    "elif age>=8and age<18:\n",
    "    print('청소년 할인이 적용됩니다.')\n",
    "else:\n",
    "    print('일반 요금이 적용됩니다.')"
   ]
  },
  {
   "cell_type": "code",
   "execution_count": 8,
   "id": "0dcce17c",
   "metadata": {},
   "outputs": [
    {
     "name": "stdout",
     "output_type": "stream",
     "text": [
      "Hello World\n",
      "AAAA\n",
      "BBBB\n"
     ]
    }
   ],
   "source": [
    "if True:\n",
    "    print('Hello World')\n",
    "    print('AAAA')\n",
    "print('BBBB')"
   ]
  },
  {
   "cell_type": "code",
   "execution_count": 10,
   "id": "6e536537",
   "metadata": {},
   "outputs": [
    {
     "name": "stdout",
     "output_type": "stream",
     "text": [
      "BBBB\n"
     ]
    }
   ],
   "source": [
    "if False:\n",
    "    print('Hello World')\n",
    "    print('AAAA')\n",
    "    \n",
    "#가독성을위해 한칸 띄어줌    \n",
    "print('BBBB')\n",
    "\n",
    "#BBBB는 if문이랑 상관없음"
   ]
  },
  {
   "cell_type": "code",
   "execution_count": 11,
   "id": "a26e2cb6",
   "metadata": {},
   "outputs": [
    {
     "name": "stdout",
     "output_type": "stream",
     "text": [
      "사과\n",
      "바나나\n",
      "딸기\n"
     ]
    }
   ],
   "source": [
    "fruits = [\"사과\", \"바나나\", \"딸기\"]\n",
    "\n",
    "for fruit in fruits:\n",
    "    print(fruit)"
   ]
  }
 ],
 "metadata": {
  "kernelspec": {
   "display_name": "Python 3 (ipykernel)",
   "language": "python",
   "name": "python3"
  },
  "language_info": {
   "codemirror_mode": {
    "name": "ipython",
    "version": 3
   },
   "file_extension": ".py",
   "mimetype": "text/x-python",
   "name": "python",
   "nbconvert_exporter": "python",
   "pygments_lexer": "ipython3",
   "version": "3.10.9"
  }
 },
 "nbformat": 4,
 "nbformat_minor": 5
}
