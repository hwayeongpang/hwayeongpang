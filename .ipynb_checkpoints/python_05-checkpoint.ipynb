{
 "cells": [
  {
   "cell_type": "code",
   "execution_count": 12,
   "id": "954357e3",
   "metadata": {},
   "outputs": [],
   "source": [
    "with open('myfile.txt', 'w') as file:\n",
    "    file.write(\"홍길동\\n\")"
   ]
  },
  {
   "cell_type": "code",
   "execution_count": 13,
   "id": "8030edcb",
   "metadata": {},
   "outputs": [],
   "source": [
    "#파일에 내용 추가\n",
    "with open('myfile.txt', 'a') as file:\n",
    "    file.write(\"임꺽정\\n\")"
   ]
  },
  {
   "cell_type": "code",
   "execution_count": 14,
   "id": "0a46f35f",
   "metadata": {},
   "outputs": [
    {
     "name": "stdout",
     "output_type": "stream",
     "text": [
      "홍길동\n",
      "임꺽정\n",
      "\n"
     ]
    }
   ],
   "source": [
    "with open('myfile.txt', 'r') as file:\n",
    "    content = file.read()\n",
    "print(content)"
   ]
  },
  {
   "cell_type": "code",
   "execution_count": 16,
   "id": "91c91762",
   "metadata": {},
   "outputs": [
    {
     "name": "stdout",
     "output_type": "stream",
     "text": [
      "Hello, World!\n",
      "추가된 내용\n",
      "\n"
     ]
    }
   ],
   "source": [
    "import os\n",
    "\n",
    "# 확인용\n",
    "count = 0\n",
    "\n",
    "# 디렉토리 경로\n",
    "dir_path = \"../path/to/directory\"\n",
    "\n",
    "# 디렉토리가 없는 경우 디렉토리 생성\n",
    "os.makedirs(dir_path, exist_ok=True)\n",
    "\n",
    "# 파일 이름\n",
    "file_name = \"myfile.txt\"\n",
    "\n",
    "# 파일 경로\n",
    "file_path = os.path.join(dir_path, file_name)\n",
    "\n",
    "# 파일에 쓰기\n",
    "with open(file_path, 'w') as file:\n",
    "    file.write(\"Hello, World!\\n\")\n",
    "\n",
    "# 파일에 내용 추가\n",
    "with open(file_path, 'a') as file:\n",
    "    file.write(\"추가된 내용\\n\")\n",
    "\n",
    "# 파일 읽기\n",
    "with open(file_path, 'r') as file:\n",
    "    content = file.read()\n",
    "print(content)"
   ]
  },
  {
   "cell_type": "code",
   "execution_count": 37,
   "id": "3bc6c1e4",
   "metadata": {},
   "outputs": [
    {
     "name": "stdout",
     "output_type": "stream",
     "text": [
      "[1, 2, 3, 4, 5, 6, 7, 8, 9, 10, 11, 12, 13, 14, 15, 16, 17, 18, 19, 20, 21, 22, 23, 24, 25, 26, 27, 28, 29, 30, 31, 32, 33, 34, 35, 36, 37, 38, 39, 40, 41, 42, 43, 44, 45]\n",
      "[3, 9, 20, 25, 32, 35]\n",
      "[2, 14, 17, 21, 24, 38]\n",
      "[3, 12, 17, 21, 30, 36]\n",
      "[1, 7, 13, 20, 34, 35]\n",
      "[6, 13, 18, 25, 26, 40]\n"
     ]
    }
   ],
   "source": [
    "import random\n",
    "\n",
    "#최대 개수\n",
    "MAX = 6\n",
    "\n",
    "\n",
    "#리스트를 초기화 한 뒤 값을 넘겨준다. \n",
    "\n",
    "\n",
    "numbers = list(range(1,46))\n",
    "print(numbers)\n",
    "\n",
    "\n",
    "\n",
    "\n",
    "\n",
    "for i in range(1,6):\n",
    "    \n",
    "    #로또 번호 리스트\n",
    "    selected_numbers = []\n",
    "\n",
    "\n",
    "    #난수 생성 : 리스트의 포함된 원소 개수가 6보다 작을때에만 반복\n",
    "    while len(selected_numbers) < MAX:\n",
    "    \n",
    "    # 난수를 생성\n",
    "        num = random.randrange(1,46)\n",
    "\n",
    "    #생성된 난수가 리스트에 포함되어있는지 확인,\n",
    "        if num not in selected_numbers:\n",
    "        #포함되지 않았다면 추가.\n",
    "            selected_numbers.append(num)\n",
    "\n",
    "        \n",
    "#6개의 숫자가 모두 추가되었다면 정렬(오름차순)        \n",
    "    selected_numbers.sort()\n",
    "\n",
    "#출력\n",
    "    print(selected_numbers)\n",
    "#----------for 에서 총 5번을 진행-----------"
   ]
  },
  {
   "cell_type": "code",
   "execution_count": 38,
   "id": "3d18a7df",
   "metadata": {},
   "outputs": [
    {
     "name": "stdout",
     "output_type": "stream",
     "text": [
      "Requirement already satisfied: requests in c:\\users\\ggg\\anaconda3\\lib\\site-packages (2.28.1)\n",
      "Requirement already satisfied: idna<4,>=2.5 in c:\\users\\ggg\\anaconda3\\lib\\site-packages (from requests) (3.4)\n",
      "Requirement already satisfied: charset-normalizer<3,>=2 in c:\\users\\ggg\\anaconda3\\lib\\site-packages (from requests) (2.0.4)\n",
      "Requirement already satisfied: urllib3<1.27,>=1.21.1 in c:\\users\\ggg\\anaconda3\\lib\\site-packages (from requests) (1.26.14)\n",
      "Requirement already satisfied: certifi>=2017.4.17 in c:\\users\\ggg\\anaconda3\\lib\\site-packages (from requests) (2022.12.7)\n",
      "Note: you may need to restart the kernel to use updated packages.\n"
     ]
    }
   ],
   "source": [
    "pip install requests #python과 웹을 연결하기 위한 라이브러리 설치"
   ]
  },
  {
   "cell_type": "code",
   "execution_count": 39,
   "id": "2bda4ecc",
   "metadata": {},
   "outputs": [
    {
     "name": "stdout",
     "output_type": "stream",
     "text": [
      "Requirement already satisfied: Beautifulsoup4 in c:\\users\\ggg\\anaconda3\\lib\\site-packages (4.11.1)\n",
      "Requirement already satisfied: soupsieve>1.2 in c:\\users\\ggg\\anaconda3\\lib\\site-packages (from Beautifulsoup4) (2.3.2.post1)\n",
      "Note: you may need to restart the kernel to use updated packages.\n"
     ]
    }
   ],
   "source": [
    "pip install Beautifulsoup4 #html, css코드에서 원하는 값을 추출해주는 라이브러리"
   ]
  },
  {
   "cell_type": "code",
   "execution_count": 40,
   "id": "59beab14",
   "metadata": {},
   "outputs": [
    {
     "name": "stdout",
     "output_type": "stream",
     "text": [
      "Requirement already satisfied: pip in c:\\users\\ggg\\anaconda3\\lib\\site-packages (22.3.1)\n",
      "Collecting pip\n",
      "  Downloading pip-23.2.1-py3-none-any.whl (2.1 MB)\n",
      "     ---------------------------------------- 2.1/2.1 MB 11.1 MB/s eta 0:00:00\n",
      "Installing collected packages: pip\n",
      "  Attempting uninstall: pip\n",
      "    Found existing installation: pip 22.3.1\n",
      "    Uninstalling pip-22.3.1:\n",
      "      Successfully uninstalled pip-22.3.1\n",
      "Successfully installed pip-23.2.1\n",
      "Note: you may need to restart the kernel to use updated packages.\n"
     ]
    }
   ],
   "source": [
    "pip install --upgrade pip # 위 라이브러리가 설치 되지 않는다면 pip업그레이드가 필요."
   ]
  },
  {
   "cell_type": "code",
   "execution_count": 42,
   "id": "be7a7232",
   "metadata": {},
   "outputs": [
    {
     "name": "stdout",
     "output_type": "stream",
     "text": [
      "pip 23.2.1 from C:\\Users\\GGG\\anaconda3\\lib\\site-packages\\pip (python 3.10)\n",
      "\n",
      "Note: you may need to restart the kernel to use updated packages.\n"
     ]
    }
   ],
   "source": [
    "pip --version #버전확인(아무것도 없는 버전으로~!!)"
   ]
  },
  {
   "cell_type": "code",
   "execution_count": 43,
   "id": "a3e158c5",
   "metadata": {},
   "outputs": [
    {
     "name": "stdout",
     "output_type": "stream",
     "text": [
      "Requirement already satisfied: numpy in c:\\users\\ggg\\anaconda3\\lib\\site-packages (1.23.5)\n",
      "Note: you may need to restart the kernel to use updated packages.\n"
     ]
    }
   ],
   "source": [
    "pip install numpy"
   ]
  },
  {
   "cell_type": "code",
   "execution_count": 53,
   "id": "af71cee8",
   "metadata": {},
   "outputs": [
    {
     "name": "stdout",
     "output_type": "stream",
     "text": [
      "<div class=\"nums\">\n",
      "<div class=\"num win\">\n",
      "<strong>당첨번호</strong>\n",
      "<p>\n",
      "<span class=\"ball_645 lrg ball1\">10</span>\n",
      "<span class=\"ball_645 lrg ball3\">23</span>\n",
      "<span class=\"ball_645 lrg ball3\">29</span>\n",
      "<span class=\"ball_645 lrg ball4\">33</span>\n",
      "<span class=\"ball_645 lrg ball4\">37</span>\n",
      "<span class=\"ball_645 lrg ball4\">40</span>\n",
      "</p>\n",
      "</div>\n",
      "<div class=\"num bonus\">\n",
      "<strong>보너스</strong>\n",
      "<p><span class=\"ball_645 lrg ball2\">16</span></p>\n",
      "</div>\n",
      "</div>\n"
     ]
    }
   ],
   "source": [
    "import requests\n",
    "from bs4 import BeautifulSoup\n",
    "import numpy\n",
    "\n",
    "count = 1\n",
    "url = f\"https://dhlottery.co.kr/gameResult.do?method=byWin&drwNo={count}\"\n",
    "response = requests.get(url)\n",
    "#print(response.text)\n",
    "\n",
    "\n",
    "parser = BeautifulSoup(response.text, 'html.parser')\n",
    "\n",
    "#print(parser)\n",
    "\n",
    "nums = parser.find('div', {'class':'nums'})\n",
    "print(nums)"
   ]
  }
 ],
 "metadata": {
  "kernelspec": {
   "display_name": "Python 3 (ipykernel)",
   "language": "python",
   "name": "python3"
  },
  "language_info": {
   "codemirror_mode": {
    "name": "ipython",
    "version": 3
   },
   "file_extension": ".py",
   "mimetype": "text/x-python",
   "name": "python",
   "nbconvert_exporter": "python",
   "pygments_lexer": "ipython3",
   "version": "3.10.9"
  }
 },
 "nbformat": 4,
 "nbformat_minor": 5
}
